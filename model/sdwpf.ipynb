{
 "cells": [
  {
   "cell_type": "code",
   "execution_count": null,
   "metadata": {},
   "outputs": [],
   "source": [
    "import sys\n",
    "sys.path.append(\".\")\n",
    "from lib.sdwpf import SDWPFDataset\n",
    "from lib.windff import WindFFModelManager, WindFFModelConfig\n",
    "\n",
    "import torch\n",
    "import logging\n",
    "logging.basicConfig(level=logging.INFO)\n",
    "\n",
    "import easydict as edict\n",
    "args = {\n",
    "    'input_win_sz': 6 * 24,\n",
    "    'output_win_sz': 6 * 2,\n",
    "    'hidden_win_sz': (6 * 24 + 6 * 2) // 2,\n",
    "    'hidden_dim': 16,\n",
    "    'adj_weight_threshold': 0.8,\n",
    "    'epochs': 50,\n",
    "    'early_stop': True,\n",
    "    'patience': 5,\n",
    "    'batch_size': 32,\n",
    "    'lr': 1e-3\n",
    "}\n",
    "args = edict.EasyDict(args)\n",
    "\n",
    "dataset = SDWPFDataset()\n",
    "\n",
    "model_manager = WindFFModelManager(WindFFModelConfig(\n",
    "    feat_dim=dataset.get_feat_dim(),\n",
    "    target_dim=dataset.get_target_dim(),\n",
    "    hidden_dim=args.hidden_dim,\n",
    "    input_win_sz=args.input_win_sz,\n",
    "    output_win_sz=args.output_win_sz,\n",
    "    hidden_win_sz=args.hidden_win_sz,\n",
    "    dtype=torch.float64\n",
    "))\n",
    "\n",
    "model_manager.train(\n",
    "    [dataset[0]],\n",
    "    model_manager.TrainConfig(\n",
    "        adj_weight_threshold=args.adj_weight_threshold,\n",
    "\n",
    "        epochs=args.epochs,\n",
    "        early_stop=args.early_stop,\n",
    "        patience=args.patience,\n",
    "        lr=args.lr,\n",
    "        batch_sz=args.batch_size,\n",
    "        val_ratio=0.2\n",
    "    )\n",
    ")\n",
    "\n",
    "loss_1 = model_manager.evaluate(dataset[1])\n",
    "logging.info(f\"Validation loss 1: {loss_1}\")\n",
    "\n",
    "# loss_2 = model_manager.evaluate(dataset[2])\n",
    "# logging.info(f\"Validation loss 2: {loss_2}\")"
   ]
  }
 ],
 "metadata": {
  "kernelspec": {
   "display_name": "orbitflow",
   "language": "python",
   "name": "python3"
  },
  "language_info": {
   "codemirror_mode": {
    "name": "ipython",
    "version": 3
   },
   "file_extension": ".py",
   "mimetype": "text/x-python",
   "name": "python",
   "nbconvert_exporter": "python",
   "pygments_lexer": "ipython3",
   "version": "3.10.13"
  }
 },
 "nbformat": 4,
 "nbformat_minor": 2
}
